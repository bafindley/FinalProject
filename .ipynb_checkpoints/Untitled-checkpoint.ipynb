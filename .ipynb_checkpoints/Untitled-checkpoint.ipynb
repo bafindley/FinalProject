{
 "cells": [
  {
   "cell_type": "code",
   "execution_count": 2,
   "metadata": {},
   "outputs": [],
   "source": [
    "import pandas as pd\n",
    "import matplotlib.pyplot as plt\n",
    "import numpy as np\n",
    "file = \"csv/train.csv\"\n"
   ]
  },
  {
   "cell_type": "code",
   "execution_count": 12,
   "metadata": {},
   "outputs": [],
   "source": [
    "train_df = pd.read_csv(file)\n",
    "train_df = train_df.drop(['id', 'belongs_to_collection', 'homepage', 'original_language', 'original_title',\n",
    "                          'overview', 'poster_path', 'release_date', 'runtime', 'spoken_languages',\n",
    "                         'status', 'imdb_id', 'production_countries', 'tagline', 'title', 'Keywords',\n",
    "                         'crew'], axis=1)\n",
    "  \n",
    "train_df = train_df.dropna(how='any')\n",
    "train_df.to_csv('csv/train_v2.csv')"
   ]
  },
  {
   "cell_type": "code",
   "execution_count": null,
   "metadata": {},
   "outputs": [],
   "source": []
  }
 ],
 "metadata": {
  "kernelspec": {
   "display_name": "Python 3",
   "language": "python",
   "name": "python3"
  },
  "language_info": {
   "codemirror_mode": {
    "name": "ipython",
    "version": 3
   },
   "file_extension": ".py",
   "mimetype": "text/x-python",
   "name": "python",
   "nbconvert_exporter": "python",
   "pygments_lexer": "ipython3",
   "version": "3.7.0"
  }
 },
 "nbformat": 4,
 "nbformat_minor": 2
}
